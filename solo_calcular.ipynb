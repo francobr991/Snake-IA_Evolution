{
 "cells": [
  {
   "cell_type": "code",
   "execution_count": null,
   "metadata": {},
   "outputs": [],
   "source": [
    "import numpy as np\n",
    "import pygame \n",
    "from Cuerpo import cuerpo\n",
    "from cerebro import nido\n",
    "from cruce import next_gen"
   ]
  },
  {
   "cell_type": "code",
   "execution_count": null,
   "metadata": {},
   "outputs": [],
   "source": [
    "class Snake:\n",
    "    \n",
    "    def __init__(self,cant_pob):\n",
    "        \n",
    "        #cantidad de población\n",
    "        self.cant_pob=cant_pob\n",
    "        self.generacion=0\n",
    "        self.generacion=0\n",
    "        #creamos el cuerpo\n",
    "        self.gusano=[]\n",
    "        self.vidas=[]\n",
    "        self.scores=[]\n",
    "        for i in range(0,cant_pob):\n",
    "            self.gusano.append(cuerpo(i+1))\n",
    "            self.vidas.append(self.gusano[i].live)\n",
    "            self.scores.append(self.gusano[i].life_time)\n",
    "        \n",
    "        #creamos la inteligencia de snake\n",
    "        self.brain=nido(self.cant_pob) \n",
    "        \n",
    "        \n",
    "        #corre la funcion principal\n",
    "        self.main()\n",
    "        \n",
    "   # def calc_falla(self):   \n",
    "    \n",
    "    def deci(self,x):\n",
    "        return self.brain.snake_IA[x].brain.predict_step((self.gusano[x].vision(self.gusano[x].cuerpo,self.gusano[x].kiwi_pos)))\n",
    "        \n",
    "\n",
    "    def main(self):     \n",
    "                 \n",
    "\n",
    "        \n",
    "        while self.generacion<1000:\n",
    "            \n",
    "                    \n",
    "              ##################################################################   \n",
    "              ##lectura posicion\n",
    "                \n",
    "            for i in range(0,self.cant_pob):\n",
    "            \n",
    "                #ejecuta las acciones si el Snake esta vivo\n",
    "                if self.gusano[i].live==1:\n",
    "                    \n",
    "                    #predice el movimineto de cada Snake\n",
    "                    decision=self.deci(i)                    \n",
    "                    self.pred_mov=np.argmax(decision)\n",
    "                            #self.pred_mov=np.random.choice([0,1,2,3])\n",
    "                    \n",
    "                            #print(\"decision del Snake #\",i+1,\" es: \",self.pred_mov)\n",
    "\n",
    "                    #mueve cada Snake\n",
    "                    self.gusano[i].mov(self.pred_mov)\n",
    "                    \n",
    "                    #evalua si la snake debe morir\n",
    "                    self.gusano[i].muerte()\n",
    "                    \n",
    "                    #lleva el tiepo de vida\n",
    "                    self.gusano[i].life_time+=1\n",
    "                    \n",
    "                    #lleva el conteo de los gusanos vivos\n",
    "                    if self.gusano[i].live==0:\n",
    "                        self.vidas[i]=0\n",
    "                        self.scores[i]=self.gusano[i].life_time+(self.gusano[i].score*100)\n",
    "                        \n",
    "            #####################################################################\n",
    "            #reinicio\n",
    "            \n",
    "            if not(1 in self.vidas):\n",
    "                print(\"generacion: \",self.generacion)\n",
    "                self.generacion+=1\n",
    "                #print(self.vidas)\n",
    "                print(self.scores)\n",
    "                ##################################\n",
    "                ##################################\n",
    "                #################################\n",
    "                #ejecutar crear nueva generacion\n",
    "                \n",
    "                N_pesos=next_gen(self.brain.pesos,self.scores,self.brain.estructura)\n",
    "                self.brain.set_pesos(N_pesos)\n",
    "                \n",
    "                \n",
    "                #####################################\n",
    "                ####################################\n",
    "                ###################################\n",
    "                \n",
    "                \n",
    "                for i in range(self.cant_pob):\n",
    "                    self.gusano[i].reinicio()\n",
    "                    self.vidas[i]= self.gusano[i].live\n",
    "\n",
    "            \n",
    "\n"
   ]
  },
  {
   "cell_type": "code",
   "execution_count": null,
   "metadata": {
    "scrolled": false
   },
   "outputs": [],
   "source": [
    "vibora=Snake(20)"
   ]
  },
  {
   "cell_type": "code",
   "execution_count": null,
   "metadata": {},
   "outputs": [],
   "source": [
    "print(\"hola\")"
   ]
  },
  {
   "cell_type": "code",
   "execution_count": null,
   "metadata": {},
   "outputs": [],
   "source": []
  }
 ],
 "metadata": {
  "kernelspec": {
   "display_name": "Python 3",
   "language": "python",
   "name": "python3"
  },
  "language_info": {
   "codemirror_mode": {
    "name": "ipython",
    "version": 3
   },
   "file_extension": ".py",
   "mimetype": "text/x-python",
   "name": "python",
   "nbconvert_exporter": "python",
   "pygments_lexer": "ipython3",
   "version": "3.8.0"
  }
 },
 "nbformat": 4,
 "nbformat_minor": 4
}
